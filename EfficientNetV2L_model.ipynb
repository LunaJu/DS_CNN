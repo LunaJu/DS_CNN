{
 "cells": [
  {
   "cell_type": "code",
   "execution_count": 1,
   "id": "3b308354-df8e-4add-9f4e-d8c15fa3455f",
   "metadata": {},
   "outputs": [
    {
     "name": "stderr",
     "output_type": "stream",
     "text": [
      "2023-12-26 20:31:15.697251: I tensorflow/core/util/port.cc:113] oneDNN custom operations are on. You may see slightly different numerical results due to floating-point round-off errors from different computation orders. To turn them off, set the environment variable `TF_ENABLE_ONEDNN_OPTS=0`.\n",
      "2023-12-26 20:31:15.728537: E external/local_xla/xla/stream_executor/cuda/cuda_dnn.cc:9261] Unable to register cuDNN factory: Attempting to register factory for plugin cuDNN when one has already been registered\n",
      "2023-12-26 20:31:15.728569: E external/local_xla/xla/stream_executor/cuda/cuda_fft.cc:607] Unable to register cuFFT factory: Attempting to register factory for plugin cuFFT when one has already been registered\n",
      "2023-12-26 20:31:15.729459: E external/local_xla/xla/stream_executor/cuda/cuda_blas.cc:1515] Unable to register cuBLAS factory: Attempting to register factory for plugin cuBLAS when one has already been registered\n",
      "2023-12-26 20:31:15.735015: I tensorflow/core/platform/cpu_feature_guard.cc:182] This TensorFlow binary is optimized to use available CPU instructions in performance-critical operations.\n",
      "To enable the following instructions: AVX2 AVX512F AVX512_VNNI FMA, in other operations, rebuild TensorFlow with the appropriate compiler flags.\n",
      "2023-12-26 20:31:16.417492: W tensorflow/compiler/tf2tensorrt/utils/py_utils.cc:38] TF-TRT Warning: Could not find TensorRT\n"
     ]
    }
   ],
   "source": [
    "import tensorflow as tf\n",
    "import numpy as np\n",
    "import cv2 as cv\n",
    "import matplotlib.pyplot as plt\n",
    "from tensorflow import keras\n",
    "from tensorflow.keras import layers, models\n",
    "from tensorflow.keras import Sequential\n",
    "from tensorflow.keras.layers import Dense,Conv2D,MaxPooling2D,Flatten,Dropout, BatchNormalization\n",
    "from tensorflow.keras.preprocessing.image import ImageDataGenerator\n",
    "import pandas as pd\n",
    "from cv2 import imread, IMREAD_GRAYSCALE # IMREAD_GRAYSCALE allow you to load the image as gray scale image\n",
    "from tensorflow.keras.preprocessing.image import ImageDataGenerator\n",
    "# import tensorflow_addons as tfa\n",
    "import math\n",
    "import gc\n",
    "import heapq\n",
    "import pandas as pd\n",
    "import numpy as np\n",
    "import os\n",
    "import gc\n",
    "import io\n",
    "import re\n",
    "import warnings\n",
    "from sklearn import metrics"
   ]
  },
  {
   "cell_type": "code",
   "execution_count": 2,
   "id": "446aa0ac-3980-4cbe-91c2-46e78819cb8b",
   "metadata": {},
   "outputs": [],
   "source": [
    "gpus = tf.config.list_physical_devices(device_type='GPU')\n",
    "tf.config.set_visible_devices(devices=gpus[1], device_type='GPU')"
   ]
  },
  {
   "cell_type": "code",
   "execution_count": 3,
   "id": "e2bec7d3-eef2-42fb-95c8-bc90484fc009",
   "metadata": {},
   "outputs": [
    {
     "data": {
      "text/plain": [
       "[PhysicalDevice(name='/physical_device:GPU:0', device_type='GPU'),\n",
       " PhysicalDevice(name='/physical_device:GPU:1', device_type='GPU')]"
      ]
     },
     "execution_count": 3,
     "metadata": {},
     "output_type": "execute_result"
    }
   ],
   "source": [
    "tf.config.list_physical_devices('GPU')"
   ]
  },
  {
   "cell_type": "code",
   "execution_count": 4,
   "id": "12b9520c-b327-43f0-bd36-95911e67b43d",
   "metadata": {},
   "outputs": [
    {
     "name": "stderr",
     "output_type": "stream",
     "text": [
      "2023-12-26 20:31:17.903845: I tensorflow/core/common_runtime/gpu/gpu_device.cc:1929] Created device /job:localhost/replica:0/task:0/device:GPU:0 with 21690 MB memory:  -> device: 1, name: NVIDIA GeForce RTX 3090, pci bus id: 0000:b3:00.0, compute capability: 8.6\n",
      "/tmp/ipykernel_2521856/4041900582.py:17: DeprecationWarning: The binary mode of fromstring is deprecated, as it behaves surprisingly on unicode inputs. Use frombuffer instead\n",
      "  nparr = np.fromstring(example.features.feature['jpg_bytes'].bytes_list.value[0], np.uint8)\n"
     ]
    }
   ],
   "source": [
    "filename = 'TBNA_train.tfrecords'\n",
    "\n",
    "raw_dataset = tf.data.TFRecordDataset(filename)\n",
    "\n",
    "X_train = []\n",
    "Y_train = []\n",
    "\n",
    "for raw_record in raw_dataset:\n",
    "\n",
    "    example = tf.train.Example()\n",
    "    example.ParseFromString(raw_record.numpy())\n",
    "\n",
    "    sub_y = []\n",
    "    sub_y.append(1 if example.features.feature['Lung cancer'].float_list.value[0] == 1 else 0)\n",
    "    sub_y.append(1 if example.features.feature['Sex'].float_list.value[0] == 1 else 0)\n",
    "    # sub_y.append(1 if example.features.feature['Total location'].float_list.value[0] == 1 else 0)\n",
    "    nparr = np.fromstring(example.features.feature['jpg_bytes'].bytes_list.value[0], np.uint8)\n",
    "    img_np = np.array(nparr).reshape(380, 395, 3)\n",
    "    # img_np = cv.imdecode(nparr, cv.IMREAD_GRAYSCALE)\n",
    "    # img_np = cv.imdecode(nparr, cv.IMREAD_COLOR)\n",
    "#     img_np = cv.imdecode(nparr, cv.COLOR_BGR2RGB)\n",
    "    X_train.append(img_np)\n",
    "    Y_train.append(sub_y)\n",
    "\n",
    "X_train = np.array(X_train)\n",
    "Y_train = np.array(Y_train)"
   ]
  },
  {
   "cell_type": "code",
   "execution_count": 5,
   "id": "36459863-e1c0-4b57-8747-33b8370775ec",
   "metadata": {},
   "outputs": [
    {
     "name": "stderr",
     "output_type": "stream",
     "text": [
      "/tmp/ipykernel_2521856/221394784.py:17: DeprecationWarning: The binary mode of fromstring is deprecated, as it behaves surprisingly on unicode inputs. Use frombuffer instead\n",
      "  nparr = np.fromstring(example.features.feature['jpg_bytes'].bytes_list.value[0], np.uint8)\n"
     ]
    }
   ],
   "source": [
    "filename = 'TBNA_test.tfrecords'\n",
    "\n",
    "raw_dataset = tf.data.TFRecordDataset(filename)\n",
    "\n",
    "X_test = []\n",
    "Y_test = []\n",
    "\n",
    "for raw_record in raw_dataset:\n",
    "\n",
    "    example = tf.train.Example()\n",
    "    example.ParseFromString(raw_record.numpy())\n",
    "\n",
    "    sub_y = []\n",
    "    sub_y.append(1 if example.features.feature['Lung cancer'].float_list.value[0] == 1 else 0)\n",
    "    sub_y.append(1 if example.features.feature['Sex'].float_list.value[0] == 1 else 0)\n",
    "    # sub_y.append(1 if example.features.feature['Total location'].float_list.value[0] == 1 else 0)\n",
    "    nparr = np.fromstring(example.features.feature['jpg_bytes'].bytes_list.value[0], np.uint8)\n",
    "    img_np = np.array(nparr).reshape(380, 395, 3)\n",
    "    # img_np = cv.imdecode(nparr, cv.IMREAD_GRAYSCALE)\n",
    "    # img_np = cv.imdecode(nparr, cv.IMREAD_COLOR)\n",
    "#     img_np = cv.imdecode(nparr, cv.COLOR_BGR2RGB)\n",
    "    X_test.append(img_np)\n",
    "    Y_test.append(sub_y)\n",
    "\n",
    "X_test = np.array(X_test)\n",
    "Y_test = np.array(Y_test)"
   ]
  },
  {
   "cell_type": "code",
   "execution_count": 6,
   "id": "3628085f-4e46-4ac5-8432-4d9ebb7ff5ae",
   "metadata": {},
   "outputs": [],
   "source": [
    "X_train = X_train.reshape(X_train.shape[0],X_train.shape[1],X_train.shape[2],3)\n",
    "Y_train = Y_train.astype(np.float64)\n",
    "X_test = X_test.reshape(X_test.shape[0],X_test.shape[1],X_test.shape[2],3)\n",
    "Y_test = Y_test.astype(np.float64)"
   ]
  },
  {
   "cell_type": "code",
   "execution_count": 7,
   "id": "2e5cf2eb-7dba-4b6c-995a-08da532ac520",
   "metadata": {},
   "outputs": [],
   "source": [
    "from sklearn.model_selection import train_test_split\n",
    "\n",
    "X_test, X_valid, Y_test, Y_valid = train_test_split(X_test, Y_test, random_state=777, train_size=0.7)"
   ]
  },
  {
   "cell_type": "code",
   "execution_count": 8,
   "id": "6fa1e8ed-a7aa-4ab0-be78-9c35505691d3",
   "metadata": {},
   "outputs": [
    {
     "name": "stdout",
     "output_type": "stream",
     "text": [
      "(610, 380, 395, 3)\n",
      "(912, 380, 395, 3)\n",
      "(2127, 380, 395, 3)\n"
     ]
    }
   ],
   "source": [
    "print(X_train.shape)\n",
    "print(X_valid.shape)\n",
    "print(X_test.shape)"
   ]
  },
  {
   "cell_type": "code",
   "execution_count": 9,
   "id": "bc28cd06-07b5-4624-9ac1-0fa7fc37fece",
   "metadata": {},
   "outputs": [],
   "source": [
    "# train_dataset = tf.data.Dataset.from_tensor_slices((X_train, Y_train)).batch(32).shuffle(buffer_size=1024)\n",
    "# valid_dataset = tf.data.Dataset.from_tensor_slices((X_valid, Y_valid)).batch(32).shuffle(buffer_size=1024)\n",
    "# test_dataset = tf.data.Dataset.from_tensor_slices((X_test, Y_test)).batch(32).shuffle(buffer_size=1024)\n",
    "train_dataset = tf.data.Dataset.from_tensor_slices((X_train, Y_train)).batch(32).shuffle(buffer_size=1024)\n",
    "valid_dataset = tf.data.Dataset.from_tensor_slices((X_valid, Y_valid)).batch(32).shuffle(buffer_size=1024)\n",
    "test_dataset = tf.data.Dataset.from_tensor_slices((X_test, Y_test)).batch(32).shuffle(buffer_size=1024)"
   ]
  },
  {
   "cell_type": "code",
   "execution_count": 14,
   "id": "b9bdfb18-ebd7-46e4-9f4d-632067738e65",
   "metadata": {},
   "outputs": [
    {
     "name": "stdout",
     "output_type": "stream",
     "text": [
      "Downloading data from https://storage.googleapis.com/keras-applications/efficientnetb0.h5\n",
      "21834768/21834768 [==============================] - 2s 0us/step\n"
     ]
    }
   ],
   "source": [
    "# from tensorflow.keras.applications.densenet_121 import DenseNet121\n",
    "from tensorflow.keras.layers import Dense, GlobalAveragePooling2D\n",
    "from tensorflow.keras.models import Model\n",
    "from tensorflow.keras import Input\n",
    "\n",
    "input_tensor = Input(shape=(380, 395, 3))\n",
    "base_model = keras.applications.EfficientNetB0(weights='imagenet', input_tensor=input_tensor)\n",
    "x = base_model.output\n",
    "# x = GlobalAveragePooling2D()(x)\n",
    "# let's add a fully-connected layer\n",
    "x = Dense(1024, activation='relu')(x)\n",
    "# and a logistic layer — let's say we have 200 classes\n",
    "predictions = Dense(2, activation='sigmoid')(x)\n",
    "\n",
    "# this is the model we will train\n",
    "model = Model(inputs=base_model.input, outputs=predictions)\n",
    "\n",
    "model.compile(optimizer=\"sgd\", loss='binary_crossentropy', metrics=[tf.keras.metrics.AUC(name = 'auc', multi_label=False)])"
   ]
  },
  {
   "cell_type": "code",
   "execution_count": 15,
   "id": "7dc2507d-3dd8-4a89-ba38-1f6f53f5d421",
   "metadata": {},
   "outputs": [
    {
     "name": "stdout",
     "output_type": "stream",
     "text": [
      "Epoch 1/30\n"
     ]
    },
    {
     "name": "stderr",
     "output_type": "stream",
     "text": [
      "2023-12-26 20:36:51.023364: E tensorflow/core/grappler/optimizers/meta_optimizer.cc:961] layout failed: INVALID_ARGUMENT: Size of values 0 does not match size of permutation 4 @ fanin shape inmodel_2/block2b_drop/dropout/SelectV2-2-TransposeNHWCToNCHW-LayoutOptimizer\n",
      "2023-12-26 20:36:53.854563: I external/local_xla/xla/service/service.cc:168] XLA service 0x7fe1a82dadc0 initialized for platform CUDA (this does not guarantee that XLA will be used). Devices:\n",
      "2023-12-26 20:36:53.854589: I external/local_xla/xla/service/service.cc:176]   StreamExecutor device (0): NVIDIA GeForce RTX 3090, Compute Capability 8.6\n",
      "WARNING: All log messages before absl::InitializeLog() is called are written to STDERR\n",
      "I0000 00:00:1703623013.952970 2522246 device_compiler.h:186] Compiled cluster using XLA!  This line is logged at most once for the lifetime of the process.\n"
     ]
    },
    {
     "name": "stdout",
     "output_type": "stream",
     "text": [
      "67/67 [==============================] - 36s 279ms/step - loss: 0.6897 - auc: 0.5211 - val_loss: 0.6858 - val_auc: 0.5622\n",
      "Epoch 2/30\n",
      "67/67 [==============================] - 17s 258ms/step - loss: 0.6838 - auc: 0.5256 - val_loss: 0.6797 - val_auc: 0.5628\n",
      "Epoch 3/30\n",
      "67/67 [==============================] - 17s 257ms/step - loss: 0.6792 - auc: 0.5265 - val_loss: 0.6750 - val_auc: 0.5632\n",
      "Epoch 4/30\n",
      "67/67 [==============================] - 17s 258ms/step - loss: 0.6756 - auc: 0.5271 - val_loss: 0.6713 - val_auc: 0.5637\n",
      "Epoch 5/30\n",
      "67/67 [==============================] - 17s 259ms/step - loss: 0.6729 - auc: 0.5368 - val_loss: 0.6685 - val_auc: 0.5656\n",
      "Epoch 6/30\n",
      "67/67 [==============================] - 19s 279ms/step - loss: 0.6709 - auc: 0.5335 - val_loss: 0.6663 - val_auc: 0.5628\n",
      "Epoch 7/30\n",
      "67/67 [==============================] - 17s 259ms/step - loss: 0.6694 - auc: 0.5296 - val_loss: 0.6646 - val_auc: 0.5640\n",
      "Epoch 8/30\n",
      "67/67 [==============================] - 18s 259ms/step - loss: 0.6683 - auc: 0.5295 - val_loss: 0.6634 - val_auc: 0.5623\n",
      "Epoch 9/30\n",
      "67/67 [==============================] - 18s 259ms/step - loss: 0.6675 - auc: 0.5289 - val_loss: 0.6624 - val_auc: 0.5629\n",
      "Epoch 10/30\n",
      "67/67 [==============================] - 18s 261ms/step - loss: 0.6669 - auc: 0.5283 - val_loss: 0.6617 - val_auc: 0.5629\n",
      "Epoch 11/30\n",
      "67/67 [==============================] - 18s 259ms/step - loss: 0.6664 - auc: 0.5289 - val_loss: 0.6611 - val_auc: 0.5636\n",
      "Epoch 12/30\n",
      "67/67 [==============================] - 18s 260ms/step - loss: 0.6661 - auc: 0.5322 - val_loss: 0.6606 - val_auc: 0.5629\n",
      "Epoch 13/30\n",
      "67/67 [==============================] - 18s 259ms/step - loss: 0.6658 - auc: 0.5276 - val_loss: 0.6602 - val_auc: 0.5628\n",
      "Epoch 14/30\n",
      "67/67 [==============================] - 18s 259ms/step - loss: 0.6657 - auc: 0.5274 - val_loss: 0.6600 - val_auc: 0.5629\n",
      "Epoch 15/30\n",
      "67/67 [==============================] - 18s 260ms/step - loss: 0.6655 - auc: 0.5293 - val_loss: 0.6597 - val_auc: 0.5634\n",
      "Epoch 16/30\n",
      "67/67 [==============================] - 18s 259ms/step - loss: 0.6654 - auc: 0.5295 - val_loss: 0.6596 - val_auc: 0.5634\n",
      "Epoch 17/30\n",
      "67/67 [==============================] - 17s 258ms/step - loss: 0.6654 - auc: 0.5278 - val_loss: 0.6595 - val_auc: 0.5638\n",
      "Epoch 18/30\n",
      "67/67 [==============================] - 18s 262ms/step - loss: 0.6653 - auc: 0.5315 - val_loss: 0.6593 - val_auc: 0.5635\n",
      "Epoch 19/30\n",
      "67/67 [==============================] - 17s 258ms/step - loss: 0.6653 - auc: 0.5305 - val_loss: 0.6593 - val_auc: 0.5629\n",
      "Epoch 20/30\n",
      "67/67 [==============================] - 18s 259ms/step - loss: 0.6653 - auc: 0.5303 - val_loss: 0.6592 - val_auc: 0.5629\n",
      "Epoch 21/30\n",
      "67/67 [==============================] - 17s 258ms/step - loss: 0.6652 - auc: 0.5293 - val_loss: 0.6591 - val_auc: 0.5605\n",
      "Epoch 22/30\n",
      "67/67 [==============================] - 17s 258ms/step - loss: 0.6652 - auc: 0.5300 - val_loss: 0.6591 - val_auc: 0.5638\n",
      "Epoch 23/30\n",
      "67/67 [==============================] - 17s 259ms/step - loss: 0.6652 - auc: 0.5290 - val_loss: 0.6590 - val_auc: 0.5646\n",
      "Epoch 24/30\n",
      "67/67 [==============================] - 17s 259ms/step - loss: 0.6652 - auc: 0.5329 - val_loss: 0.6590 - val_auc: 0.5714\n",
      "Epoch 25/30\n",
      "67/67 [==============================] - 17s 259ms/step - loss: 0.6652 - auc: 0.5327 - val_loss: 0.6590 - val_auc: 0.5692\n",
      "Epoch 26/30\n",
      "67/67 [==============================] - 17s 258ms/step - loss: 0.6652 - auc: 0.5299 - val_loss: 0.6589 - val_auc: 0.5612\n",
      "Epoch 27/30\n",
      "67/67 [==============================] - 17s 259ms/step - loss: 0.6652 - auc: 0.5323 - val_loss: 0.6589 - val_auc: 0.5631\n",
      "Epoch 28/30\n",
      "67/67 [==============================] - 17s 259ms/step - loss: 0.6652 - auc: 0.5325 - val_loss: 0.6589 - val_auc: 0.5634\n",
      "Epoch 29/30\n",
      "67/67 [==============================] - 17s 259ms/step - loss: 0.6652 - auc: 0.5309 - val_loss: 0.6589 - val_auc: 0.5633\n",
      "Epoch 30/30\n",
      "67/67 [==============================] - 17s 251ms/step - loss: 0.6652 - auc: 0.5285 - val_loss: 0.6589 - val_auc: 0.5629\n",
      "20/20 [==============================] - 1s 58ms/step - loss: 0.7309 - auc: 0.8155\n",
      "0.7308698296546936 0.8155257105827332\n"
     ]
    }
   ],
   "source": [
    "checkpoint_filepath = '/tmp/ckpt/checkpoint.weights.h5'\n",
    "model_checkpoint_callback = keras.callbacks.ModelCheckpoint(\n",
    "    filepath=checkpoint_filepath,\n",
    "    save_weights_only=True,\n",
    "    monitor='val_loss',\n",
    "    mode='min',\n",
    "    save_best_only=True)\n",
    "history = model.fit(test_dataset, validation_data=valid_dataset, epochs=30, callbacks=[model_checkpoint_callback])\n",
    "loss, accuracy = model.evaluate(train_dataset)\n",
    "\n",
    "print(loss, accuracy)\n",
    "\n",
    "# print(model.summary())"
   ]
  },
  {
   "cell_type": "code",
   "execution_count": 16,
   "id": "e269cf4d-0662-4325-90cc-db4845d6cf97",
   "metadata": {},
   "outputs": [
    {
     "name": "stdout",
     "output_type": "stream",
     "text": [
      "20/20 [==============================] - 1s 54ms/step - loss: 0.7309 - auc: 0.8155\n",
      "0.7308697700500488 0.8155257105827332\n"
     ]
    }
   ],
   "source": [
    "loss, accuracy = model.evaluate(train_dataset)\n",
    "print(loss, accuracy)"
   ]
  },
  {
   "cell_type": "code",
   "execution_count": 17,
   "id": "9a2085ea-c4a1-429b-bccf-9fa443ae4fa0",
   "metadata": {},
   "outputs": [
    {
     "data": {
      "text/plain": [
       "<matplotlib.legend.Legend at 0x7fe38a0908e0>"
      ]
     },
     "execution_count": 17,
     "metadata": {},
     "output_type": "execute_result"
    },
    {
     "data": {
      "image/png": "[encoded data removed]",
      "text/plain": [
       "<Figure size 640x480 with 1 Axes>"
      ]
     },
     "metadata": {},
     "output_type": "display_data"
    }
   ],
   "source": [
    "plt.plot(history.history['loss'], label=\"loss\")\n",
    "plt.plot(history.history['auc'], label=\"auc\")\n",
    "plt.plot(history.history['val_loss'], label=\"val_loss\")\n",
    "plt.plot(history.history['val_auc'], label=\"val_auc\")\n",
    "plt.title('Evaluation metrics', size=20)\n",
    "plt.xlabel('Epoch', size=14)\n",
    "plt.legend()"
   ]
  },
  {
   "cell_type": "code",
   "execution_count": 18,
   "id": "3f916bde-974b-4b8b-9afe-5fb094f12ad6",
   "metadata": {},
   "outputs": [
    {
     "name": "stdout",
     "output_type": "stream",
     "text": [
      "20/20 [==============================] - 2s 48ms/step\n"
     ]
    }
   ],
   "source": [
    "Y_cal = model.predict(X_train)"
   ]
  },
  {
   "cell_type": "code",
   "execution_count": 19,
   "id": "b4e415fa-59ee-4ed6-b656-ca477a9fde96",
   "metadata": {},
   "outputs": [],
   "source": [
    "Y_cancer = []\n",
    "Y_gender = []\n",
    "\n",
    "for data in Y_train:\n",
    "    # print(data)\n",
    "    Y_cancer.append(data[0])\n",
    "    Y_gender.append(data[1])\n",
    "\n",
    "Y_cancer = np.array(Y_cancer)\n",
    "Y_gender = np.array(Y_gender)"
   ]
  },
  {
   "cell_type": "code",
   "execution_count": 20,
   "id": "3af96c24-4812-4b1c-9aec-ffe0803b332c",
   "metadata": {},
   "outputs": [],
   "source": [
    "Y_cal_cancer = []\n",
    "Y_cal_gender = []\n",
    "\n",
    "for data in Y_cal:\n",
    "    Y_cal_cancer.append(data[0])\n",
    "    Y_cal_gender.append(data[1])\n",
    "\n",
    "Y_cal_cancer = np.array(Y_cal_cancer)\n",
    "Y_cal_gender = np.array(Y_cal_gender)"
   ]
  },
  {
   "cell_type": "code",
   "execution_count": 21,
   "id": "bd450981-7498-4692-8234-266ac222b0cd",
   "metadata": {},
   "outputs": [],
   "source": [
    "def Find_Optimal_Cutoff(TPR, FPR, threshold):\n",
    "    y=TPR - FPR\n",
    "    Youden_index = np.argmax(y)\n",
    "    optimal_threshold = threshold[Youden_index]\n",
    "    point = [FPR[Youden_index], TPR[Youden_index]]\n",
    "    \n",
    "    return optimal_threshold, point\n",
    "\n",
    "def ROC(label, y_prob):\n",
    "    fpr, tpr, thresholds = roc_curve(label, y_prob)\n",
    "    roc_auc = auc(fpr, tpr)\n",
    "    optimal_th, optimal_point = Find_Optimal_Cutoff(TPR=tpr, FPR=fpr, threshold=thresholds)\n",
    "    \n",
    "    return fpr, tpr, roc_auc, optimal_th, optimal_point"
   ]
  },
  {
   "cell_type": "code",
   "execution_count": 22,
   "id": "7e47cf3f-62b3-4bff-92a4-95a0d5238bde",
   "metadata": {},
   "outputs": [],
   "source": [
    "# from sklearn.metrics import roc_curve, auc\n",
    "# from sklearn.metrics import accuracy_score\n",
    "# from sklearn.metrics import precision_score\n",
    "# from sklearn.metrics import recall_score\n",
    "# from sklearn.metrics import f1_score\n",
    "\n",
    "\n",
    "# fpr, tpr, roc_auc, optimal_th, optimal_point = ROC(Y_train, Y_cal)\n",
    "# plt.figure(1)\n",
    "# plt.plot(fpr, tpr, label= f\"AUC = {roc_auc:.3f}\")\n",
    "# plt.plot([0, 1], [0, 1], linestyle=\"--\")\n",
    "# plt.plot(optimal_point[0], optimal_point[1], marker='o', color='r')\n",
    "# plt.text(optimal_point[0], optimal_point[1], f'Threshold:{optimal_th:.2f}')\n",
    "# plt.title(\"cancer ROC-AUC\")\n",
    "# plt.xlabel(\"False Positive Rate\")\n",
    "# plt.ylabel(\"True Positive Rate\")\n",
    "# plt.legend()\n",
    "# plt.show()\n",
    "# print(\"optimal_point: \", optimal_point[0], optimal_point[1])\n",
    "# print(\"Threshold: \", optimal_th)\n",
    "# Y = np.around(Y_cal)\n",
    "# accuracy = accuracy_score(Y_train, Y)\n",
    "# print('Accuracy: %f' % accuracy)\n",
    "# precision = precision_score(Y_train, Y)\n",
    "# print('Precision: %f' % precision)\n",
    "# recall = recall_score(Y_train, Y)\n",
    "# print('Recall: %f' % recall)\n",
    "# f1 = f1_score(Y_train, Y)\n",
    "# print('F1 score: %f' % f1)"
   ]
  },
  {
   "cell_type": "code",
   "execution_count": 23,
   "id": "edc512e9-9850-4239-85a8-81aefdc89729",
   "metadata": {},
   "outputs": [
    {
     "data": {
      "image/png": "[encoded data removed]",
      "text/plain": [
       "<Figure size 640x480 with 1 Axes>"
      ]
     },
     "metadata": {},
     "output_type": "display_data"
    },
    {
     "name": "stdout",
     "output_type": "stream",
     "text": [
      "optimal_point:  0.559322033898305 0.8493647912885662\n",
      "Threshold:  0.4157827\n",
      "Accuracy: 0.096721\n",
      "Precision: 0.000000\n",
      "Recall: 0.000000\n",
      "F1 score: 0.000000\n"
     ]
    },
    {
     "name": "stderr",
     "output_type": "stream",
     "text": [
      "/home/jupyter-luna11/.conda/envs/myenv/lib/python3.9/site-packages/sklearn/metrics/_classification.py:1471: UndefinedMetricWarning: Precision is ill-defined and being set to 0.0 due to no predicted samples. Use `zero_division` parameter to control this behavior.\n",
      "  _warn_prf(average, modifier, msg_start, len(result))\n"
     ]
    }
   ],
   "source": [
    "from sklearn.metrics import roc_curve, auc\n",
    "from sklearn.metrics import accuracy_score\n",
    "from sklearn.metrics import precision_score\n",
    "from sklearn.metrics import recall_score\n",
    "from sklearn.metrics import f1_score\n",
    "\n",
    "\n",
    "fpr, tpr, roc_auc, optimal_th, optimal_point = ROC(Y_cancer, Y_cal_cancer)\n",
    "plt.figure(1)\n",
    "plt.plot(fpr, tpr, label= f\"AUC = {roc_auc:.3f}\")\n",
    "plt.plot([0, 1], [0, 1], linestyle=\"--\")\n",
    "plt.plot(optimal_point[0], optimal_point[1], marker='o', color='r')\n",
    "plt.text(optimal_point[0], optimal_point[1], f'Threshold:{optimal_th:.2f}')\n",
    "plt.title(\"cancer ROC-AUC\")\n",
    "plt.xlabel(\"False Positive Rate\")\n",
    "plt.ylabel(\"True Positive Rate\")\n",
    "plt.legend()\n",
    "plt.show()\n",
    "print(\"optimal_point: \", optimal_point[0], optimal_point[1])\n",
    "print(\"Threshold: \", optimal_th)\n",
    "Y = np.around(Y_cal_cancer)\n",
    "accuracy = accuracy_score(Y_cancer, Y)\n",
    "print('Accuracy: %f' % accuracy)\n",
    "precision = precision_score(Y_cancer, Y)\n",
    "print('Precision: %f' % precision)\n",
    "recall = recall_score(Y_cancer, Y)\n",
    "print('Recall: %f' % recall)\n",
    "f1 = f1_score(Y_cancer, Y)\n",
    "print('F1 score: %f' % f1)"
   ]
  },
  {
   "cell_type": "code",
   "execution_count": 24,
   "id": "b6c07a95-f7fe-4ec9-8748-379246833d24",
   "metadata": {},
   "outputs": [
    {
     "data": {
      "image/png": "[encoded data removed]",
      "text/plain": [
       "<Figure size 640x480 with 1 Axes>"
      ]
     },
     "metadata": {},
     "output_type": "display_data"
    },
    {
     "name": "stdout",
     "output_type": "stream",
     "text": [
      "optimal_point:  0.17757009345794392 0.2032967032967033\n",
      "Threshold:  0.35824496\n",
      "Accuracy: 0.701639\n",
      "Precision: 0.000000\n",
      "Recall: 0.000000\n",
      "F1 score: 0.000000\n"
     ]
    },
    {
     "name": "stderr",
     "output_type": "stream",
     "text": [
      "/home/jupyter-luna11/.conda/envs/myenv/lib/python3.9/site-packages/sklearn/metrics/_classification.py:1471: UndefinedMetricWarning: Precision is ill-defined and being set to 0.0 due to no predicted samples. Use `zero_division` parameter to control this behavior.\n",
      "  _warn_prf(average, modifier, msg_start, len(result))\n"
     ]
    }
   ],
   "source": [
    "from sklearn.metrics import roc_curve, auc\n",
    "from sklearn.metrics import accuracy_score\n",
    "from sklearn.metrics import precision_score\n",
    "from sklearn.metrics import recall_score\n",
    "from sklearn.metrics import f1_score\n",
    "\n",
    "\n",
    "fpr, tpr, roc_auc, optimal_th, optimal_point = ROC(Y_gender, Y_cal_gender)\n",
    "plt.figure(1)\n",
    "plt.plot(fpr, tpr, label= f\"AUC = {roc_auc:.3f}\")\n",
    "plt.plot([0, 1], [0, 1], linestyle=\"--\")\n",
    "plt.plot(optimal_point[0], optimal_point[1], marker='o', color='r')\n",
    "plt.text(optimal_point[0], optimal_point[1], f'Threshold:{optimal_th:.2f}')\n",
    "plt.title(\"gender ROC-AUC\")\n",
    "plt.xlabel(\"False Positive Rate\")\n",
    "plt.ylabel(\"True Positive Rate\")\n",
    "plt.legend()\n",
    "plt.show()\n",
    "print(\"optimal_point: \", optimal_point[0], optimal_point[1])\n",
    "print(\"Threshold: \", optimal_th)\n",
    "Y = np.around(Y_cal_gender)\n",
    "accuracy = accuracy_score(Y_gender, Y)\n",
    "print('Accuracy: %f' % accuracy)\n",
    "precision = precision_score(Y_gender, Y)\n",
    "print('Precision: %f' % precision)\n",
    "recall = recall_score(Y_gender, Y)\n",
    "print('Recall: %f' % recall)\n",
    "f1 = f1_score(Y_gender, Y)\n",
    "print('F1 score: %f' % f1)"
   ]
  },
  {
   "cell_type": "code",
   "execution_count": 26,
   "id": "2fab1543-5a39-4e42-ad81-33a4b88aa964",
   "metadata": {},
   "outputs": [
    {
     "name": "stdout",
     "output_type": "stream",
     "text": [
      "0.6269648405057061\n",
      "0.6269648405057061\n"
     ]
    }
   ],
   "source": [
    "from sklearn.metrics import roc_auc_score\n",
    "score = roc_auc_score(Y_cancer, Y_cal_cancer, average='micro', multi_class='ovr')\n",
    "print(score)\n",
    "score = roc_auc_score(Y_cancer, Y_cal_cancer, average='macro', multi_class='ovr')\n",
    "print(score)"
   ]
  },
  {
   "cell_type": "code",
   "execution_count": 27,
   "id": "fb323c79-8bdf-4d09-acf4-0d1060cdc8b6",
   "metadata": {},
   "outputs": [
    {
     "name": "stdout",
     "output_type": "stream",
     "text": [
      "0.48353573996097365\n",
      "0.48353573996097365\n"
     ]
    }
   ],
   "source": [
    "from sklearn.metrics import roc_auc_score\n",
    "score = roc_auc_score(Y_gender, Y_cal_gender, average='micro', multi_class='ovr')\n",
    "print(score)\n",
    "score = roc_auc_score(Y_gender, Y_cal_gender, average='macro', multi_class='ovr')\n",
    "print(score)"
   ]
  },
  {
   "cell_type": "code",
   "execution_count": null,
   "id": "be22de69-92ce-44c7-a5ff-53663c67f3ca",
   "metadata": {},
   "outputs": [],
   "source": []
  }
 ],
 "metadata": {
  "kernelspec": {
   "display_name": "myenv",
   "language": "python",
   "name": "myenv"
  },
  "language_info": {
   "codemirror_mode": {
    "name": "ipython",
    "version": 3
   },
   "file_extension": ".py",
   "mimetype": "text/x-python",
   "name": "python",
   "nbconvert_exporter": "python",
   "pygments_lexer": "ipython3",
   "version": "3.9.18"
  }
 },
 "nbformat": 4,
 "nbformat_minor": 5
}
